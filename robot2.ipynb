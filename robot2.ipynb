{
 "cells": [
  {
   "cell_type": "code",
   "execution_count": null,
   "metadata": {},
   "outputs": [],
   "source": [
    "import matplotlib.pyplot as plt\n",
    "import numpy as np\n",
    "from IPython.display import clear_output\n",
    "import time"
   ]
  },
  {
   "cell_type": "markdown",
   "metadata": {},
   "source": [
    "Crear numpy array manualmente para el laberinto de 12*12 casillas"
   ]
  },
  {
   "cell_type": "code",
   "execution_count": null,
   "metadata": {},
   "outputs": [],
   "source": [
    "laberinto = np.array(\n",
    "        [   \n",
    "            [4,4,4,4,4,4,4,4,4,4,4,4],\n",
    "            [False,False,False,False,False,False,True,False,False,False,False,False],\n",
    "            [False,True,True,True,True,False,True,True,True,True,True,False],\n",
    "            [False,True,False,False, True,False, True,False,False,False, True,False],\n",
    "            [False,True, True,False, True,False, False,False, True, True, True,False],\n",
    "            [False,False, True,False, True, True, True,True, True,False,False,False],\n",
    "            [False, True, True,False,False,False,False,False, True,False, True,False],\n",
    "            [False, True, False,False,False,False,False, True, True,False,True, False,],\n",
    "            [False, True, True, True, True, True,False, False,False, False, True, False],\n",
    "            [False, False,True,False, False, True, True, True, True, True, True,False],\n",
    "            [False, False, True, False, False,False, False,False, True, False, True, False],\n",
    "            [False, True, True, False, False, True, True, True, True, False, True, False],\n",
    "            [False, False,False, False,False, True, False, False,False, False,False, False],\n",
    "            [3,3,3,3,3,3,3,3,3,3,3,3]\n",
    "        ]\n",
    "    )"
   ]
  },
  {
   "cell_type": "markdown",
   "metadata": {},
   "source": [
    "Dibujar Laberinto"
   ]
  },
  {
   "cell_type": "code",
   "execution_count": null,
   "metadata": {},
   "outputs": [],
   "source": [
    "\n",
    "def pintarLaberinto(robot = None):\n",
    "    plt.figure(figsize=(5,5))\n",
    "\n",
    "    for i in range(laberinto.shape[0]):\n",
    "        for j in range(laberinto.shape[1]):\n",
    "            if not laberinto[i, j]: \n",
    "                plt.fill_between([j, j + 1], laberinto.shape[0] - i - 1, laberinto.shape[0] - i, color='BLACK')\n",
    "            elif laberinto[i][j]==3:  \n",
    "                plt.fill_between([j, j + 1], laberinto.shape[0] - i - 1, laberinto.shape[0] - i, color='RED')\n",
    "            elif laberinto[i][j]==4:  \n",
    "                plt.fill_between([j, j + 1], laberinto.shape[0] - i - 1, laberinto.shape[0] - i, color='GREEN')\n",
    "            else:\n",
    "                plt.fill_between([j, j + 1], laberinto.shape[0] - i - 1, laberinto.shape[0] - i, color='WHITE')\n",
    "            \n",
    "    if robot is not None: \n",
    "        i = robot.x\n",
    "        j = robot.y\n",
    "\n",
    "        plt.fill_between([j, j + 1], laberinto.shape[0] - i - 1, laberinto.shape[0] - i, color='orange')        \n",
    "    \n",
    "    plt.axis('equal')\n",
    "    plt.axis('off')\n",
    "    plt.show()\n"
   ]
  },
  {
   "cell_type": "markdown",
   "metadata": {},
   "source": [
    "Calcular DM entre dos posiciones "
   ]
  },
  {
   "cell_type": "code",
   "execution_count": null,
   "metadata": {},
   "outputs": [],
   "source": [
    "stack = Pila()\n",
    "base = Robot(12,5)\n",
    "mirobot = Robot(12,5)\n",
    "estadoMeta = Robot(0,6)\n",
    "stack.push(base)\n",
    "stack.push(mirobot)\n",
    "stack.imprimir_pila()  \n",
    "while(stack.top() != estadoMeta): #Ciclo \n",
    "    pintarLaberinto((Robot(stack.top().x,stack.top().y)))\n",
    "    delay = 0.1\n",
    "    clear_output(wait=True)\n",
    "    time.sleep(delay)\n",
    "\n",
    "    #print(stack.top().x, stack.top().y)\n",
    "    stack.push(minDm(stack.top().x, stack.top().y))\n",
    "\n",
    "    "
   ]
  },
  {
   "cell_type": "code",
   "execution_count": null,
   "metadata": {},
   "outputs": [],
   "source": [
    "stack = Pila()\n",
    "base = Robot(12,5)\n",
    "mirobot = Robot(12,5)\n",
    "estadoMeta = Robot(0,6)\n",
    "stack.push(base)\n",
    "stack.push(mirobot)\n",
    "stack.imprimir_pila()  \n",
    "while(stack.top() != estadoMeta): #Ciclo \n",
    "    pintarLaberinto((Robot(stack.top().x,stack.top().y)))\n",
    "    delay = 0.1\n",
    "    clear_output(wait=True)\n",
    "    time.sleep(delay)\n",
    "\n",
    "    #print(stack.top().x, stack.top().y)\n",
    "    stack.push(minDm(stack.top().x, stack.top().y))\n",
    "\n",
    "    "
   ]
  },
  {
   "cell_type": "code",
   "execution_count": null,
   "metadata": {},
   "outputs": [],
   "source": [
    "\n",
    "def dmMeta (punto1):\n",
    "    meta = (0,6)\n",
    "    x1, y1 = punto1\n",
    "    x2, y2 = meta\n",
    "\n",
    "    return abs(x1 - x2) + abs(y1 - y2)\n",
    "    #return abs( (x1 - x2)**2 + (y1 - y2)**2 )\n",
    "  \n"
   ]
  },
  {
   "cell_type": "markdown",
   "metadata": {},
   "source": [
    "Objeto Robot"
   ]
  },
  {
   "cell_type": "code",
   "execution_count": null,
   "metadata": {},
   "outputs": [],
   "source": [
    "class Robot:\n",
    "    def __init__(self, x, y):\n",
    "        self.x = x \n",
    "        self.y = y\n",
    "    def __eq__(self,other):\n",
    "        if self.x==other.x and self.y==other.y:\n",
    "            return True\n",
    "        return False"
   ]
  },
  {
   "cell_type": "markdown",
   "metadata": {},
   "source": [
    "Heuristica"
   ]
  },
  {
   "cell_type": "code",
   "execution_count": null,
   "metadata": {},
   "outputs": [],
   "source": [
    "def minDm(x,y):\n",
    "    minimo = 100 #Valor de la DisMan\n",
    "    robotminimo = (0,0)\n",
    "    adyacentes = []\n",
    "    adyacente1 = ( x   , y-1)\n",
    "    adyacente2 = ( x-1   , y)\n",
    "    adyacente3 = ( x+1   , y)\n",
    "    adyacente4 = ( x   , y+1)\n",
    "    adyacentes.append( adyacente1)\n",
    "    adyacentes.append( adyacente2)\n",
    "    adyacentes.append(adyacente3)\n",
    "    adyacentes.append( adyacente4)\n",
    "\n",
    "    contadorAdyacentes = 0\n",
    "    for adyacente in adyacentes :\n",
    "        #Verifica que la casilla adyacente este libre\n",
    "        if laberinto[adyacente[0]][adyacente[1]] == True:\n",
    "            m = dmMeta(adyacente)\n",
    "        else: #de no hacerlo, coloca la variable m en un número grande\n",
    "            m = 10000 \n",
    "        #Verifica una casilla con mejor heuristica\n",
    "        if m < minimo and (stack.topPenultimo().x, stack.topPenultimo().y)!= adyacente:\n",
    "            minimo = m\n",
    "            robotminimo = adyacente #guarda las coordenadas de la casilla con menor heurística hasta el momento\n",
    "        if laberinto[adyacente[0],adyacente[1]] == False:    \n",
    "            contadorAdyacentes = contadorAdyacentes+1\n",
    "    #Verifica si la casilla actual no puede avanzar más\n",
    "    if contadorAdyacentes > 2:\n",
    "        laberinto[x][y] = 3 #Indica que la casilla no puede seguir avanzando \n",
    "        stack.pop() #Saca la casilla actual\n",
    "        return Robot(stack.top().x, stack.top().y) #Retorna la casilla anterior\n",
    "        \n",
    "    else: \n",
    "        return Robot(robotminimo[0],robotminimo[1]) #Retorna la casilla de mejor heurística"
   ]
  },
  {
   "cell_type": "markdown",
   "metadata": {},
   "source": [
    "Prueba Dibujar Laberinto"
   ]
  },
  {
   "cell_type": "code",
   "execution_count": null,
   "metadata": {},
   "outputs": [],
   "source": [
    "\n",
    "delay = 0.5\n",
    "pintarLaberinto(mirobot)\n",
    "\n",
    "clear_output(wait=True)\n",
    "time.sleep(delay)"
   ]
  },
  {
   "cell_type": "markdown",
   "metadata": {},
   "source": [
    "Crear pila para guardar coordenadas visitados"
   ]
  },
  {
   "cell_type": "markdown",
   "metadata": {},
   "source": [
    "Objeto pila"
   ]
  },
  {
   "cell_type": "code",
   "execution_count": null,
   "metadata": {},
   "outputs": [],
   "source": [
    "class Pila:\n",
    "    def __init__(self):\n",
    "        self.items = []\n",
    "\n",
    "    def push(self, item):\n",
    "        self.items.append(item)\n",
    "\n",
    "    def pop(self):\n",
    "        if not self.is_empty():\n",
    "            return self.items.pop()\n",
    "        else:\n",
    "            raise IndexError(\"La pila está vacía, no se puede hacer pop\")\n",
    "\n",
    "    def top(self):\n",
    "        if not self.is_empty():\n",
    "            return Robot(self.items[-1].x,self.items[-1].y)\n",
    "        else:\n",
    "            raise IndexError(\"La pila está vacía, no hay elemento en la cima\")\n",
    "    def topPenultimo(self):\n",
    "        if not self.is_empty():\n",
    "            return Robot(self.items[-2].x,self.items[-2].y)\n",
    "        else:\n",
    "            raise IndexError(\"La pila está vacía, no hay elemento en la cima\")\n",
    "    def is_empty(self):\n",
    "        return len(self.items) == 0\n",
    "\n",
    "    def size(self):\n",
    "        return len(self.items)\n",
    "\n",
    "    def imprimir_pila(self):\n",
    "        for item in self.items:\n",
    "            print(item.x, item.y)"
   ]
  },
  {
   "cell_type": "markdown",
   "metadata": {},
   "source": [
    "Greedy Best First"
   ]
  },
  {
   "cell_type": "code",
   "execution_count": null,
   "metadata": {},
   "outputs": [],
   "source": [
    "stack = Pila()\n",
    "base = Robot(12,5)\n",
    "mirobot = Robot(12,5)\n",
    "estadoMeta = Robot(0,6)\n",
    "stack.push(base)\n",
    "stack.push(mirobot)\n",
    "stack.imprimir_pila()  \n",
    "while(stack.top() != estadoMeta): #Ciclo \n",
    "    pintarLaberinto((Robot(stack.top().x,stack.top().y)))\n",
    "    delay = 0.1\n",
    "    clear_output(wait=True)\n",
    "    time.sleep(delay)\n",
    "\n",
    "    #print(stack.top().x, stack.top().y)\n",
    "    stack.push(minDm(stack.top().x, stack.top().y))\n",
    "\n",
    "    "
   ]
  }
 ],
 "metadata": {
  "kernelspec": {
   "display_name": "Python 3.11.4 ('AIMAAA')",
   "language": "python",
   "name": "python3"
  },
  "language_info": {
   "codemirror_mode": {
    "name": "ipython",
    "version": 3
   },
   "file_extension": ".py",
   "mimetype": "text/x-python",
   "name": "python",
   "nbconvert_exporter": "python",
   "pygments_lexer": "ipython3",
   "version": "3.11.5"
  },
  "orig_nbformat": 4,
  "vscode": {
   "interpreter": {
    "hash": "7839366c6039c52012ba6680d75d0dab481c5ec6738eedcc2ad3288aed121cab"
   }
  }
 },
 "nbformat": 4,
 "nbformat_minor": 2
}
